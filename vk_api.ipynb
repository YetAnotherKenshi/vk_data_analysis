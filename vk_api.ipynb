{
 "cells": [
  {
   "cell_type": "code",
   "execution_count": 57,
   "metadata": {},
   "outputs": [
    {
     "name": "stdout",
     "output_type": "stream",
     "text": [
      "Requirement already satisfied: vk_api in ./perekatipolebot/venv/lib/python3.9/site-packages (11.9.9)\n",
      "Requirement already satisfied: requests in ./perekatipolebot/venv/lib/python3.9/site-packages (from vk_api) (2.31.0)\n",
      "Requirement already satisfied: idna<4,>=2.5 in ./perekatipolebot/venv/lib/python3.9/site-packages (from requests->vk_api) (3.4)\n",
      "Requirement already satisfied: urllib3<3,>=1.21.1 in ./perekatipolebot/venv/lib/python3.9/site-packages (from requests->vk_api) (2.2.1)\n",
      "Requirement already satisfied: certifi>=2017.4.17 in ./perekatipolebot/venv/lib/python3.9/site-packages (from requests->vk_api) (2022.9.24)\n",
      "Requirement already satisfied: charset-normalizer<4,>=2 in ./perekatipolebot/venv/lib/python3.9/site-packages (from requests->vk_api) (2.1.1)\n",
      "\u001b[33mWARNING: You are using pip version 21.3.1; however, version 24.0 is available.\n",
      "You should consider upgrading via the '/Users/vail/code/perekatipolebot/venv/bin/python -m pip install --upgrade pip' command.\u001b[0m\n",
      "Note: you may need to restart the kernel to use updated packages.\n"
     ]
    }
   ],
   "source": [
    "pip install vk_api"
   ]
  },
  {
   "cell_type": "code",
   "execution_count": 58,
   "metadata": {},
   "outputs": [],
   "source": [
    "import vk_api\n",
    "vk_session = vk_api.VkApi(token=vk_token)\n",
    "vk = vk_session.get_api()"
   ]
  },
  {
   "cell_type": "code",
   "execution_count": 59,
   "metadata": {},
   "outputs": [],
   "source": [
    "import csv\n",
    "\n",
    "users = vk.users.search(city=61, sort = 1, fields=\"bdate, city, home_town, nickname, sex, verified\", count = 1000)['items']\n",
    "\n",
    "for user in users: # Добавляем поле \"year\", если в профиле указана полная дата рождения\n",
    "   if 'bdate' in user:\n",
    "    date = user['bdate']\n",
    "    date = date.split(\".\")\n",
    "    if len(date) == 3: # Проверяем, полная ли дата рождения\n",
    "        year = date[2]\n",
    "        user['year'] = year\n",
    "\n",
    "\n",
    "keys = users[0].keys()\n",
    "\n",
    "with open('people.csv', 'w', newline='') as output_file: # Записываем данные в csv файл\n",
    "    dict_writer = csv.DictWriter(output_file, keys)\n",
    "    dict_writer.writeheader()\n",
    "    dict_writer.writerows(users)"
   ]
  }
 ],
 "metadata": {
  "kernelspec": {
   "display_name": "Python 3",
   "language": "python",
   "name": "python3"
  },
  "language_info": {
   "codemirror_mode": {
    "name": "ipython",
    "version": 3
   },
   "file_extension": ".py",
   "mimetype": "text/x-python",
   "name": "python",
   "nbconvert_exporter": "python",
   "pygments_lexer": "ipython3",
   "version": "3.9.12"
  }
 },
 "nbformat": 4,
 "nbformat_minor": 2
}
